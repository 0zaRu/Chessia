{
 "cells": [
  {
   "cell_type": "code",
   "execution_count": 1,
   "metadata": {},
   "outputs": [],
   "source": [
    "from tensorflow.keras.preprocessing.text import Tokenizer\n",
    "import pickle\n",
    "\n",
    "tokens_file = \"general_tokens_v1.pkl\""
   ]
  },
  {
   "cell_type": "code",
   "execution_count": 21,
   "metadata": {},
   "outputs": [],
   "source": [
    "movimientos = []\n",
    "letras = ['a', 'b', 'c', 'd', 'e', 'f', 'g', 'h']\n",
    "piezas = ['N', 'B', 'R', 'Q', 'K']\n",
    "\n",
    "# Movimiento de peones con jaque y sin el. Coronación con jaque y sin el\n",
    "for letra in letras:\n",
    "    for num in range(1, 9):\n",
    "        if num == 1 or num == 8:\n",
    "            for pieza in piezas[:-1]:\n",
    "                movimientos.append(letra+str(num)+'='+pieza)\n",
    "                movimientos.append(letra+str(num)+'='+pieza+'+')\n",
    "\n",
    "            else:\n",
    "                movimientos.append(letra+str(num))\n",
    "                movimientos.append(letra+str(num)+'+')\n",
    "\n",
    "\n",
    "# Pieza a casilla moviendo. Rango de 3 y 4 con jaque y con comida\n",
    "for pieza in piezas:\n",
    "    for letra in letras:\n",
    "        for num in range(1, 9):\n",
    "            movimientos.append(pieza+letra+str(num))\n",
    "            movimientos.append(pieza+letra+str(num)+'+')\n",
    "            movimientos.append(pieza+'x'+letra+str(num))\n",
    "            movimientos.append(pieza+'x'+letra+str(num)+'+')\n",
    "\n",
    "# Enroques\n",
    "movimientos.append('O-O')\n",
    "movimientos.append('O-O+')\n",
    "movimientos.append('O-O-O')\n",
    "movimientos.append('O-O-O+')\n",
    "\n",
    "# Comer de peón con y sin jaque y coronación con o sin jaque\n",
    "for letraIni in letras:\n",
    "    for letraDes in letras:\n",
    "        if letraIni != letraDes:\n",
    "            for num in range(1, 9):\n",
    "                if num == 1 or num == 8:\n",
    "                    for pieza in piezas[:-1]:\n",
    "                        movimientos.append(letraIni+'x'+letraDes+str(num)+'='+pieza)\n",
    "                        movimientos.append(letraIni+'x'+letraDes+str(num)+'='+pieza+'+')\n",
    "\n",
    "                    else:\n",
    "                        movimientos.append(letraIni+'x'+letraDes+str(num))\n",
    "                        movimientos.append(letraIni+'x'+letraDes+str(num)+'+')\n",
    "\n",
    "# Movimiento de pieza específica desde letra\n",
    "for pieza in piezas:\n",
    "    for letraDes in letras:\n",
    "        for numDes in range(1, 9):\n",
    "            \n",
    "            for letraIni in letras:\n",
    "                movimientos.append(pieza+letraIni+letraDes+str(numDes))\n",
    "                movimientos.append(pieza+letraIni+letraDes+str(numDes)+'+')\n",
    "                movimientos.append(pieza+letraIni+'x'+letraDes+str(numDes))\n",
    "                movimientos.append(pieza+letraIni+'x'+letraDes+str(numDes)+'+')\n",
    "\n",
    "            for numIni in range(1, 9):\n",
    "                movimientos.append(pieza+str(numIni)+letraDes+str(numDes))\n",
    "                movimientos.append(pieza+str(numIni)+letraDes+str(numDes)+'+')\n",
    "                movimientos.append(pieza+str(numIni)+'x'+letraDes+str(numDes))\n",
    "                movimientos.append(pieza+str(numIni)+'x'+letraDes+str(numDes)+'+')"
   ]
  },
  {
   "cell_type": "code",
   "execution_count": 20,
   "metadata": {},
   "outputs": [
    {
     "name": "stdout",
     "output_type": "stream",
     "text": [
      "23204\n"
     ]
    }
   ],
   "source": [
    "print(len(movimientos))"
   ]
  },
  {
   "cell_type": "code",
   "execution_count": 22,
   "metadata": {},
   "outputs": [],
   "source": [
    "tokenizer = Tokenizer()\n",
    "tokenizer.fit_on_texts(movimientos)\n",
    "with open(tokens_file, \"wb\") as f:\n",
    "    pickle.dump(tokenizer, f)"
   ]
  }
 ],
 "metadata": {
  "kernelspec": {
   "display_name": "Python 3",
   "language": "python",
   "name": "python3"
  },
  "language_info": {
   "codemirror_mode": {
    "name": "ipython",
    "version": 3
   },
   "file_extension": ".py",
   "mimetype": "text/x-python",
   "name": "python",
   "nbconvert_exporter": "python",
   "pygments_lexer": "ipython3",
   "version": "3.10.9"
  }
 },
 "nbformat": 4,
 "nbformat_minor": 2
}
