{
 "cells": [
  {
   "cell_type": "markdown",
   "metadata": {},
   "source": [
    "<h3>0.0 CARGA DE BIBLIOTECAS, VARIABLES, CLASES Y MÉTODOS IMPORTANTES</h3>"
   ]
  },
  {
   "cell_type": "code",
   "execution_count": 1,
   "metadata": {},
   "outputs": [],
   "source": [
    "import matplotlib.pyplot as plt\n",
    "import numpy as np\n",
    "import tensorflow as tf\n",
    "from tensorflow.keras.preprocessing.text import Tokenizer\n",
    "from tensorflow.keras.preprocessing.sequence import pad_sequences\n",
    "from tensorflow.keras.callbacks import EarlyStopping, ModelCheckpoint\n",
    "from tensorflow.keras.layers import Dropout, LSTM, Dense, Embedding\n",
    "import pickle\n",
    "import json\n",
    "import os\n",
    "\n",
    "num_lilith = '04'\n",
    "archivo_json = '../../Chessia_Data_Convert/Target Data/Datos-V2.json'\n",
    "tokens_lilith = \"tokens\"+num_lilith+\".pkl\"\n",
    "\n",
    "class Partida:\n",
    "    def __init__(self):\n",
    "        self.movimientos = []\n",
    "        self.resultado = None\n",
    "\n",
    "# Función para cargar partidas en lotes\n",
    "def cargar_partidas_por_rango(archivo_json, inicio=0, fin=103350):\n",
    "    total_movimientos = []\n",
    "    total_resultados = []\n",
    "    with open(archivo_json, 'r') as file:\n",
    "        # Carga el contenido completo como una lista de objetos JSON\n",
    "        lista_json = json.load(file)\n",
    "        \n",
    "        # Itera sobre cada objeto JSON en la lista\n",
    "        for i in range(inicio, fin):\n",
    "            total_movimientos.append(lista_json[i]['partida']['movimientos'])\n",
    "            total_resultados.append(lista_json[i]['partida']['resultado'])\n",
    "            \n",
    "    return total_movimientos, total_resultados\n",
    "\n",
    "class PlotMetricsCallback(tf.keras.callbacks.Callback):\n",
    "    def on_epoch_end(self, epoch, logs=None):\n",
    "        try:\n",
    "            if self.model.history:\n",
    "                plt.figure(figsize=(10, 5))\n",
    "                plt.subplot(1, 2, 1)\n",
    "                plt.plot(self.model.history.history['loss'], label='Training Loss')\n",
    "                plt.plot(self.model.history.history['val_loss'], label='Validation Loss')\n",
    "                plt.xlabel('Epoch')\n",
    "                plt.ylabel('Loss')\n",
    "                plt.title('Loss Over Time')\n",
    "                plt.legend()\n",
    "\n",
    "                plt.subplot(1, 2, 2)\n",
    "                plt.plot(self.model.history.history['accuracy'], label='Training Accuracy')\n",
    "                plt.plot(self.model.history.history['val_accuracy'], label='Validation Accuracy')\n",
    "                plt.xlabel('Epoch')\n",
    "                plt.ylabel('Accuracy')\n",
    "                plt.title('Accuracy Over Time')\n",
    "                plt.legend()\n",
    "\n",
    "        except Exception as e:\n",
    "            print(\"Error al mostrar la gráfica:\", e)"
   ]
  },
  {
   "cell_type": "markdown",
   "metadata": {},
   "source": [
    "<h3>3.0 PROCESADO DE DATOS DE LILITH - USA ProcesadorPGN_V2</h3>"
   ]
  },
  {
   "cell_type": "code",
   "execution_count": 2,
   "metadata": {},
   "outputs": [],
   "source": [
    "# Convertir el generador en una lista y extraer la primera tupla\n",
    "recogido = cargar_partidas_por_rango(archivo_json, fin=100000)\n",
    "movimientos = recogido[0]\n",
    "resultados = recogido[1]\n",
    "# Crear y ajustar el tokenizador\n",
    "tokenizer = Tokenizer()\n",
    "tokenizer.fit_on_texts(movimientos)\n",
    "\n",
    "#Borramos los antiguos tokens si los hubiese\n",
    "if os.path.exists(tokens_lilith):\n",
    "    os.remove(tokens_lilith)\n",
    "\n",
    "# Guardar el objeto Tokenizer en un archivo usando pickle\n",
    "with open(tokens_lilith, \"wb\") as f:\n",
    "    pickle.dump(tokenizer, f)\n",
    "\n",
    "# Convertir todas las jugadas a secuencias de números enteros y luego a tensores válidos\n",
    "movimientos_tokenized = tokenizer.texts_to_sequences(movimientos)\n",
    "movimientos_tokenized = pad_sequences(movimientos_tokenized, maxlen=500, padding=\"pre\")\n",
    "\n",
    "resultados_tokenized = tf.one_hot([int(resultado) for resultado in resultados], depth=3)  # 3 clases: empate, victoria blanca, victoria negra\n",
    "\n",
    "tensor_mov_entrena = tf.constant(movimientos_tokenized[:int(len(movimientos_tokenized) * 0.7) ])\n",
    "tensor_res_entrena = tf.constant(resultados_tokenized [:int(len(resultados_tokenized)  * 0.7) ])\n",
    "tensor_mov_prueba =  tf.constant(movimientos_tokenized[ int(len(movimientos_tokenized) * 0.7):])\n",
    "tensor_res_prueba =  tf.constant(resultados_tokenized [ int(len(resultados_tokenized)  * 0.7):])"
   ]
  },
  {
   "cell_type": "markdown",
   "metadata": {},
   "source": [
    "<h3>3.1 LILITH - DEFINICIÓN, ENTRENAMIENTO Y GRÁFICAS DE DATOS CON POCOS VALORES</h3>"
   ]
  },
  {
   "cell_type": "markdown",
   "metadata": {},
   "source": [
    "<h4>&ensp;&ensp;3.1.1 CREACIÓN DEL MODELO</h4>"
   ]
  },
  {
   "cell_type": "code",
   "execution_count": 4,
   "metadata": {},
   "outputs": [],
   "source": [
    "modelo = tf.keras.Sequential([\n",
    "    Embedding(input_dim=len(tokenizer.word_index) + 1, output_dim=256),\n",
    "    LSTM(units=512, dropout=0.3, recurrent_dropout=0.3, return_sequences=True),\n",
    "    LSTM(units=256, dropout=0.3, recurrent_dropout=0.3),\n",
    "    Dense(units=256, activation='relu'),\n",
    "    Dense(units=3, activation='softmax')\n",
    "])\n",
    "\n",
    "# Compilar el modelo\n",
    "optimizer = tf.keras.optimizers.Adam(learning_rate=0.0005)\n",
    "modelo.compile(optimizer=optimizer, loss='categorical_crossentropy', metrics=['accuracy'])"
   ]
  },
  {
   "cell_type": "markdown",
   "metadata": {},
   "source": [
    "<h4>&ensp;&ensp;3.1.2 ENTRENAMIENTO</h4>"
   ]
  },
  {
   "cell_type": "code",
   "execution_count": 6,
   "metadata": {},
   "outputs": [
    {
     "name": "stdout",
     "output_type": "stream",
     "text": [
      "No se encontró un checkpoint existente. Iniciando un nuevo entrenamiento...\n",
      "\n",
      "\n",
      "Epoch 1/15\n",
      "\u001b[1m 41/274\u001b[0m \u001b[32m━━\u001b[0m\u001b[37m━━━━━━━━━━━━━━━━━━\u001b[0m \u001b[1m36:12\u001b[0m 9s/step - accuracy: 0.4121 - loss: 1.0677"
     ]
    }
   ],
   "source": [
    "# Definir callbacks\n",
    "early_stopping = EarlyStopping(monitor='val_loss', patience=6, restore_best_weights=True)\n",
    "checkpoint = ModelCheckpoint(filepath='modelo_checkpoint.keras', save_best_only=True)\n",
    "plot_metrics = PlotMetricsCallback()\n",
    "\n",
    "try:\n",
    "    modelo = tf.keras.models.load_model('modelo_checkpoint.keras')\n",
    "    print(\"Checkpoint cargado. Continuando entrenamiento desde el último punto guardado...\\n\\n\")\n",
    "except:\n",
    "    print(\"No se encontró un checkpoint existente. Iniciando un nuevo entrenamiento...\\n\\n\")\n",
    "\n",
    "# Entrenar el modelo con los callbacks\n",
    "history = modelo.fit(\n",
    "    tensor_mov_entrena,\n",
    "    tensor_res_entrena,\n",
    "    epochs=15,\n",
    "    initial_epoch=0,  # Especificar la primera época a ejecutar\n",
    "    batch_size=256,\n",
    "    validation_data=(tensor_mov_prueba, tensor_res_prueba),\n",
    "    callbacks=[early_stopping, checkpoint]\n",
    ")\n",
    "\n",
    "# Guardar el modelo final\n",
    "modelo.save(\"lilith\"+num_lilith+\".keras\")\n",
    "\n",
    "# Evaluar el modelo en los datos de prueba\n",
    "loss, accuracy = modelo.evaluate(tensor_mov_prueba, tensor_res_prueba)\n",
    "print(\"\\n\\nLoss en los datos de prueba:\", loss)\n",
    "print(\"Precisión en los datos de prueba:\", accuracy)"
   ]
  },
  {
   "cell_type": "markdown",
   "metadata": {},
   "source": [
    "<h4>&ensp;&ensp;3.1.3 ESTADÍSTICAS Y GRÁFICAS</h4>"
   ]
  },
  {
   "cell_type": "code",
   "execution_count": null,
   "metadata": {},
   "outputs": [],
   "source": [
    "fig, axs = plt.subplots(2, 1, figsize=(10, 10))\n",
    "\n",
    "epocas = range(1, len(history.history['loss']) + 1)\n",
    "\n",
    "# Graficar la precisión\n",
    "axs[0].plot(epocas, history.history['accuracy'], 'r', label='Precisión en entrenamiento')\n",
    "axs[0].plot(epocas, history.history['val_accuracy'], 'b', label='Precisión en validación')\n",
    "axs[0].set_title('Precisión en entrenamiento y validación')\n",
    "axs[0].set_xlabel('Épocas')\n",
    "axs[0].set_ylabel('Precisión')\n",
    "axs[0].legend()\n",
    "\n",
    "# Graficar la pérdida\n",
    "axs[1].plot(epocas, history.history['loss'], 'r', label='Pérdida en entrenamiento')\n",
    "axs[1].plot(epocas, history.history['val_loss'], 'b', label='Pérdida en validación')\n",
    "axs[1].set_title('Pérdida en entrenamiento y validación')\n",
    "axs[1].set_xlabel('Épocas')\n",
    "axs[1].set_ylabel('Pérdida')\n",
    "axs[1].legend()\n",
    "\n",
    "plt.tight_layout()  # Ajustar el diseño para evitar superposiciones\n",
    "plt.show()"
   ]
  },
  {
   "cell_type": "markdown",
   "metadata": {},
   "source": [
    "<h3>3.2 PRUEBA DE PREDICCIÓN LILITH</h3>"
   ]
  },
  {
   "cell_type": "markdown",
   "metadata": {},
   "source": [
    "<h4>&ensp;&ensp;3.2.1 RECOGIDA DE DATOS Y TOKENS</h4>"
   ]
  },
  {
   "cell_type": "code",
   "execution_count": 3,
   "metadata": {},
   "outputs": [],
   "source": [
    "# Convertir el generador en una lista y extraer la primera tupla\n",
    "movimientos, resultados = cargar_partidas_por_rango(archivo_json, inicio=100000)\n",
    "\n",
    "# Creación del tokenizer\n",
    "nuevo_tokenizer = Tokenizer()\n",
    "\n",
    "# Cargar el objeto Tokenizer desde el archivo\n",
    "with open(tokens_lilith, \"rb\") as f:\n",
    "    nuevo_tokenizer = pickle.load(f)\n",
    "\n",
    "tensor_mov_pred = tf.constant(pad_sequences(nuevo_tokenizer.texts_to_sequences(movimientos), maxlen=500, padding=\"pre\"))"
   ]
  },
  {
   "cell_type": "markdown",
   "metadata": {},
   "source": [
    "<h4>&ensp;&ensp;3.2.2 PREDICCIÓN Y MUESTRA DE DATOS</h4>"
   ]
  },
  {
   "cell_type": "code",
   "execution_count": null,
   "metadata": {},
   "outputs": [],
   "source": [
    "np.set_printoptions(suppress=True, precision=4)\n",
    "\n",
    "lilith = tf.keras.models.load_model(\"lilith\"+num_lilith+\".keras\")\n",
    "\n",
    "res_pred = lilith.predict(tensor_mov_pred)\n",
    "aciertos = 0\n",
    "\n",
    "for i in range(len(res_pred)):\n",
    "    if int(resultados[i]) != int(np.argmax(res_pred[i])): char = '❌'\n",
    "    else: \n",
    "        char = '✅'\n",
    "        aciertos += 1\n",
    "\n",
    "    print(f\"Predicción: {str(res_pred[i]):>22} -- Dice: {np.argmax(res_pred[i])} -- Real: {resultados[i]}  {char}  --- Aciertos: {aciertos:>5}/{i+1:<5} - {int(aciertos/(i+1)*100):>3}%\")\n"
   ]
  }
 ],
 "metadata": {
  "kernelspec": {
   "display_name": "Python 3",
   "language": "python",
   "name": "python3"
  },
  "language_info": {
   "codemirror_mode": {
    "name": "ipython",
    "version": 3
   },
   "file_extension": ".py",
   "mimetype": "text/x-python",
   "name": "python",
   "nbconvert_exporter": "python",
   "pygments_lexer": "ipython3",
   "version": "3.10.9"
  }
 },
 "nbformat": 4,
 "nbformat_minor": 2
}
