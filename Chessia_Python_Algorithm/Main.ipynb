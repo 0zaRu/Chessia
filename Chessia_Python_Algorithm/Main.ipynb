{
 "cells": [
  {
   "cell_type": "markdown",
   "metadata": {},
   "source": [
    "\n",
    "ESTE ES EL MAIN DEL PROGRAMA"
   ]
  },
  {
   "cell_type": "code",
   "execution_count": 1,
   "metadata": {},
   "outputs": [],
   "source": [
    "class Pieza():\n",
    "    def __init__(self, nombre=\"\", color=\"\", x=\"0\", y=\"0\", mate=None):\n",
    "        self.nombre = nombre\n",
    "        self.color = color\n",
    "        self.vivo = True\n",
    "        self.mate = mate\n",
    "        self.x = x\n",
    "        self.y = y\n",
    "\n",
    "    @classmethod\n",
    "    def crear_piezas_partida(self, color=\"B\"):\n",
    "        piezas = []\n",
    "        filaPeones  = 2 if color == \"B\" else 7\n",
    "        filaTrasera = 1 if color == \"B\" else 8\n",
    "\n",
    "        for x in range(1, 9):\n",
    "            piezas.append(Pieza(f\"Peon-{chr(x+64)}-{color}\", color, x, filaPeones))\n",
    "\n",
    "        for x in range(1, 9):\n",
    "            if x == 1 or x == 8:\n",
    "                piezas.append(Pieza(f\"Torre-{color}\", color, x, filaTrasera))\n",
    "            if x == 2 or x == 7:\n",
    "                piezas.append(Pieza(f\"Caballo-{color}\", color, x, filaTrasera))\n",
    "            if x == 3 or x == 6:\n",
    "                piezas.append(Pieza(f\"Alfil-{color}\", color, x, filaTrasera))\n",
    "            if x == 4:\n",
    "                piezas.append(Pieza(f\"Dama-{color}\", color, x, filaTrasera))\n",
    "            if x == 5:\n",
    "                piezas.append(Pieza(f\"Rey-{color}\", color, x, filaTrasera, False))\n",
    "        \n",
    "        if color == \"B\":\n",
    "            piezas += (self.crear_piezas_partida(\"N\")) \n",
    "            \n",
    "        return piezas\n",
    "\n",
    "    @staticmethod\n",
    "    def ver_piezas(piezas, i=1):\n",
    "        for pieza in piezas:\n",
    "            print(f\"{i:<3} {pieza.nombre:<11} | {chr(pieza.x+96)}{pieza.y} | {'O' if pieza.vivo is True else 'X'}\")\n",
    "            i+=1\n"
   ]
  },
  {
   "cell_type": "code",
   "execution_count": 6,
   "metadata": {},
   "outputs": [],
   "source": [
    "from os import system\n",
    "\n",
    "class Partida:\n",
    "    def __init__(self):\n",
    "        self.tablero = Pieza.crear_piezas_partida()\n",
    "    \n",
    "    @staticmethod\n",
    "    def visualizar_partida(partida, hayPieza=False):\n",
    "        system(\"cls\")\n",
    "\n",
    "        print(\"\\t      a   b   c   d   e   f   g   h \\t\")\n",
    "        print(\"\\t    ╔\"+(\"═══╦\")*7+\"═══╗ \\t\")\n",
    "\n",
    "        for i in range(7, -1, -1):\n",
    "            print(f\"\\t  {i+1} \", end=\"\")\n",
    "            for j in range(7, -1, -1):\n",
    "                for pieza in partida.tablero:\n",
    "                    if pieza.y-1 is i and pieza.x-1 is j:\n",
    "                        print(\"║ \"+pieza.nombre[0]+\" \"    if pieza.color == \"B\" else   \"║ \\033[31m\"+pieza.nombre[0]+\"\\033[0m \", end=\"\")\n",
    "                        hayPieza = True\n",
    "                        break\n",
    "                if not hayPieza:\n",
    "                    print(\"║   \", end=\"\")\n",
    "                else:\n",
    "                    hayPieza = False\n",
    "            \n",
    "            print(\"║\\n\"+(\"\\t    ╚\"+(\"═══╩\"*7)+\"═══╝ \\t\" if i == 0 else \"\\t    ╠\"+(\"═══╬\"*7)+\"═══╣ \\t\"))\n",
    "        "
   ]
  },
  {
   "cell_type": "code",
   "execution_count": 36,
   "metadata": {},
   "outputs": [
    {
     "name": "stdout",
     "output_type": "stream",
     "text": [
      "\n",
      " \t\t\t RONDA 1\n",
      "\t    =================================\n",
      "\n",
      "\t      a   b   c   d   e   f   g   h \t\n",
      "\t    ╔═══╦═══╦═══╦═══╦═══╦═══╦═══╦═══╗ \t\n",
      "\t  8 ║ \u001b[31mT\u001b[0m ║ \u001b[31mC\u001b[0m ║ \u001b[31mA\u001b[0m ║ \u001b[31mR\u001b[0m ║ \u001b[31mD\u001b[0m ║ \u001b[31mA\u001b[0m ║ \u001b[31mC\u001b[0m ║ \u001b[31mT\u001b[0m ║\n",
      "\t    ╠═══╬═══╬═══╬═══╬═══╬═══╬═══╬═══╣ \t\n",
      "\t  7 ║ \u001b[31mP\u001b[0m ║ \u001b[31mP\u001b[0m ║ \u001b[31mP\u001b[0m ║ \u001b[31mP\u001b[0m ║ \u001b[31mP\u001b[0m ║ \u001b[31mP\u001b[0m ║ \u001b[31mP\u001b[0m ║ \u001b[31mP\u001b[0m ║\n",
      "\t    ╠═══╬═══╬═══╬═══╬═══╬═══╬═══╬═══╣ \t\n",
      "\t  6 ║   ║   ║   ║   ║   ║   ║   ║   ║\n",
      "\t    ╠═══╬═══╬═══╬═══╬═══╬═══╬═══╬═══╣ \t\n",
      "\t  5 ║   ║   ║   ║   ║   ║   ║   ║   ║\n",
      "\t    ╠═══╬═══╬═══╬═══╬═══╬═══╬═══╬═══╣ \t\n",
      "\t  4 ║   ║   ║   ║   ║   ║   ║   ║   ║\n",
      "\t    ╠═══╬═══╬═══╬═══╬═══╬═══╬═══╬═══╣ \t\n",
      "\t  3 ║   ║   ║   ║   ║   ║   ║   ║   ║\n",
      "\t    ╠═══╬═══╬═══╬═══╬═══╬═══╬═══╬═══╣ \t\n",
      "\t  2 ║ P ║ P ║ P ║ P ║ P ║ P ║ P ║ P ║\n",
      "\t    ╠═══╬═══╬═══╬═══╬═══╬═══╬═══╬═══╣ \t\n",
      "\t  1 ║ T ║ C ║ A ║ R ║ D ║ A ║ C ║ T ║\n",
      "\t    ╚═══╩═══╩═══╩═══╩═══╩═══╩═══╩═══╝ \t\n",
      "<built-in method upper of str object at 0x000001DF2B115B70>\n"
     ]
    },
    {
     "ename": "TypeError",
     "evalue": "'str' object cannot be interpreted as an integer",
     "output_type": "error",
     "traceback": [
      "\u001b[1;31m---------------------------------------------------------------------------\u001b[0m",
      "\u001b[1;31mTypeError\u001b[0m                                 Traceback (most recent call last)",
      "Cell \u001b[1;32mIn[36], line 17\u001b[0m\n\u001b[0;32m     14\u001b[0m \u001b[38;5;28mprint\u001b[39m((\u001b[38;5;124m\"\u001b[39m\u001b[38;5;130;01m\\t\u001b[39;00m\u001b[38;5;124m   \u001b[39m\u001b[38;5;124m\"\u001b[39m)\u001b[38;5;241m*\u001b[39m\u001b[38;5;241m1\u001b[39m,\u001b[38;5;124m\"\u001b[39m\u001b[38;5;124m=================================\u001b[39m\u001b[38;5;130;01m\\n\u001b[39;00m\u001b[38;5;124m\"\u001b[39m)\n\u001b[0;32m     16\u001b[0m partida\u001b[38;5;241m.\u001b[39mvisualizar_partida(partida)\n\u001b[1;32m---> 17\u001b[0m \u001b[43mefectua_movimiento\u001b[49m\u001b[43m(\u001b[49m\u001b[43mpartida\u001b[49m\u001b[43m,\u001b[49m\u001b[43m \u001b[49m\u001b[38;5;28;43minput\u001b[39;49m\u001b[43m(\u001b[49m\u001b[38;5;124;43m\"\u001b[39;49m\u001b[38;5;130;43;01m\\n\u001b[39;49;00m\u001b[38;5;130;43;01m\\t\u001b[39;49;00m\u001b[38;5;130;43;01m\\t\u001b[39;49;00m\u001b[38;5;124;43mJUGADA DE BLANCAS: \u001b[39;49m\u001b[38;5;124;43m\"\u001b[39;49m\u001b[43m)\u001b[49m\u001b[43m)\u001b[49m\n\u001b[0;32m     19\u001b[0m partida\u001b[38;5;241m.\u001b[39mvisualizar_partida(partida)\n\u001b[0;32m     20\u001b[0m efectua_movimiento(partida, \u001b[38;5;28minput\u001b[39m(\u001b[38;5;124m\"\u001b[39m\u001b[38;5;130;01m\\n\u001b[39;00m\u001b[38;5;130;01m\\t\u001b[39;00m\u001b[38;5;130;01m\\t\u001b[39;00m\u001b[38;5;124mJUGADA DE NEGRAS: \u001b[39m\u001b[38;5;124m\"\u001b[39m))\n",
      "Cell \u001b[1;32mIn[36], line 9\u001b[0m, in \u001b[0;36mefectua_movimiento\u001b[1;34m(partida, juIntroducida)\u001b[0m\n\u001b[0;32m      7\u001b[0m \u001b[38;5;28;01mif\u001b[39;00m pieza\u001b[38;5;241m.\u001b[39mnombre \u001b[38;5;241m==\u001b[39m jugada[\u001b[38;5;241m0\u001b[39m]:\n\u001b[0;32m      8\u001b[0m     \u001b[38;5;28mprint\u001b[39m(jugada[\u001b[38;5;241m1\u001b[39m]\u001b[38;5;241m.\u001b[39mupper)\n\u001b[1;32m----> 9\u001b[0m     pieza\u001b[38;5;241m.\u001b[39mx \u001b[38;5;241m=\u001b[39m \u001b[38;5;28mord\u001b[39m(\u001b[38;5;28;43mchr\u001b[39;49m\u001b[43m(\u001b[49m\u001b[43mjugada\u001b[49m\u001b[43m[\u001b[49m\u001b[38;5;241;43m1\u001b[39;49m\u001b[43m]\u001b[49m\u001b[43m)\u001b[49m\u001b[38;5;241m.\u001b[39mupper)\u001b[38;5;241m-\u001b[39m\u001b[38;5;241m64\u001b[39m\n\u001b[0;32m     10\u001b[0m     pieza\u001b[38;5;241m.\u001b[39my \u001b[38;5;241m=\u001b[39m jugada[\u001b[38;5;241m2\u001b[39m]\n",
      "\u001b[1;31mTypeError\u001b[0m: 'str' object cannot be interpreted as an integer"
     ]
    }
   ],
   "source": [
    "partida = Partida()\n",
    "turno = 1\n",
    "\n",
    "def efectua_movimiento(partida, juIntroducida):\n",
    "    jugada = juIntroducida.split(\" \")\n",
    "    for pieza in partida.tablero:\n",
    "        if pieza.nombre == jugada[0]:\n",
    "            print(jugada[1].upper)\n",
    "            pieza.x = ord(chr(jugada[1]).upper)-64\n",
    "            pieza.y = jugada[2]\n",
    "\n",
    "while True:\n",
    "    print(\"\\n\",(\"\\t\")*3,\"RONDA\",turno)\n",
    "    print((\"\\t   \")*1,\"=================================\\n\")\n",
    "\n",
    "    partida.visualizar_partida(partida)\n",
    "    efectua_movimiento(partida, input(\"\\n\\t\\tJUGADA DE BLANCAS: \"))\n",
    "\n",
    "    partida.visualizar_partida(partida)\n",
    "    efectua_movimiento(partida, input(\"\\n\\t\\tJUGADA DE NEGRAS: \"))\n",
    "\n",
    "    "
   ]
  }
 ],
 "metadata": {
  "kernelspec": {
   "display_name": "Python 3",
   "language": "python",
   "name": "python3"
  },
  "language_info": {
   "codemirror_mode": {
    "name": "ipython",
    "version": 3
   },
   "file_extension": ".py",
   "mimetype": "text/x-python",
   "name": "python",
   "nbconvert_exporter": "python",
   "pygments_lexer": "ipython3",
   "version": "3.10.9"
  }
 },
 "nbformat": 4,
 "nbformat_minor": 2
}
